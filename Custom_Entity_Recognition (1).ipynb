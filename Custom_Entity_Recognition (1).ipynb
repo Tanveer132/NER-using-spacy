{
  "nbformat": 4,
  "nbformat_minor": 0,
  "metadata": {
    "colab": {
      "provenance": []
    },
    "kernelspec": {
      "name": "python3",
      "display_name": "Python 3"
    },
    "language_info": {
      "name": "python"
    }
  },
  "cells": [
    {
      "cell_type": "markdown",
      "source": [
        "### Named Entity Recognition using spaCy\n",
        "\n",
        "![spacy_logo.png](data:image/png;base64,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)\n",
        "\n",
        "###Task :\n",
        "    pretrained spacy model 'en_core_web_sm' can be used to tag entity names to sentence tokens.\n",
        "    This model has its own entities and can't be applicable if requirement is custom.\n",
        "    Model can be trained with our own customized data after refering to document, and can create custom entities.\n",
        "    In this case, sentence or word will be provided as input. Output will refering to tokens tagged with entities (technical skill, domain)\n",
        "\n"
      ],
      "metadata": {
        "id": "wiX8HqCeA_L_"
      }
    },
    {
      "cell_type": "markdown",
      "source": [
        "\n",
        "\n",
        "\n",
        "References :\n",
        "    \n",
        "    spacy documentation :\n",
        "    https://spacy.io/\n",
        "\n",
        "    english pipeline models :\n",
        "    https://spacy.io/models/en#en_core_web_sm\n",
        "    https://spacy.io/models/en#en_core_web_lg\n",
        "\n"
      ],
      "metadata": {
        "id": "XLzUVlqFizNU"
      }
    },
    {
      "cell_type": "markdown",
      "source": [
        "#### Import dependencies, appropreate model"
      ],
      "metadata": {
        "id": "DIYYjRKhhhkM"
      }
    },
    {
      "cell_type": "code",
      "execution_count": null,
      "metadata": {
        "id": "wsRcwXpwfTrI"
      },
      "outputs": [],
      "source": [
        "import spacy\n",
        "from spacy.lang.en.examples import sentences\n",
        "\n",
        "# !python -m spacy download en_core_web_lg\n",
        "nlp_sm = spacy.load(\"en_core_web_sm\")   # model trained on small data"
      ]
    },
    {
      "cell_type": "code",
      "source": [
        "!python -m spacy download en_core_web_lg\n",
        "nlp_lg = spacy.load(\"en_core_web_lg\")   # model trained on large data"
      ],
      "metadata": {
        "colab": {
          "base_uri": "https://localhost:8080/"
        },
        "id": "B-ItEYicii_8",
        "outputId": "21e175c2-3cf8-4582-f711-7e3feefbc57b"
      },
      "execution_count": null,
      "outputs": [
        {
          "output_type": "stream",
          "name": "stdout",
          "text": [
            "2023-08-26 09:51:00.331808: W tensorflow/compiler/tf2tensorrt/utils/py_utils.cc:38] TF-TRT Warning: Could not find TensorRT\n",
            "Collecting en-core-web-lg==3.6.0\n",
            "  Downloading https://github.com/explosion/spacy-models/releases/download/en_core_web_lg-3.6.0/en_core_web_lg-3.6.0-py3-none-any.whl (587.7 MB)\n",
            "\u001b[2K     \u001b[90m━━━━━━━━━━━━━━━━━━━━━━━━━━━━━━━━━━━━━━━\u001b[0m \u001b[32m587.7/587.7 MB\u001b[0m \u001b[31m2.7 MB/s\u001b[0m eta \u001b[36m0:00:00\u001b[0m\n",
            "\u001b[?25hRequirement already satisfied: spacy<3.7.0,>=3.6.0 in /usr/local/lib/python3.10/dist-packages (from en-core-web-lg==3.6.0) (3.6.1)\n",
            "Requirement already satisfied: spacy-legacy<3.1.0,>=3.0.11 in /usr/local/lib/python3.10/dist-packages (from spacy<3.7.0,>=3.6.0->en-core-web-lg==3.6.0) (3.0.12)\n",
            "Requirement already satisfied: spacy-loggers<2.0.0,>=1.0.0 in /usr/local/lib/python3.10/dist-packages (from spacy<3.7.0,>=3.6.0->en-core-web-lg==3.6.0) (1.0.4)\n",
            "Requirement already satisfied: murmurhash<1.1.0,>=0.28.0 in /usr/local/lib/python3.10/dist-packages (from spacy<3.7.0,>=3.6.0->en-core-web-lg==3.6.0) (1.0.9)\n",
            "Requirement already satisfied: cymem<2.1.0,>=2.0.2 in /usr/local/lib/python3.10/dist-packages (from spacy<3.7.0,>=3.6.0->en-core-web-lg==3.6.0) (2.0.7)\n",
            "Requirement already satisfied: preshed<3.1.0,>=3.0.2 in /usr/local/lib/python3.10/dist-packages (from spacy<3.7.0,>=3.6.0->en-core-web-lg==3.6.0) (3.0.8)\n",
            "Requirement already satisfied: thinc<8.2.0,>=8.1.8 in /usr/local/lib/python3.10/dist-packages (from spacy<3.7.0,>=3.6.0->en-core-web-lg==3.6.0) (8.1.12)\n",
            "Requirement already satisfied: wasabi<1.2.0,>=0.9.1 in /usr/local/lib/python3.10/dist-packages (from spacy<3.7.0,>=3.6.0->en-core-web-lg==3.6.0) (1.1.2)\n",
            "Requirement already satisfied: srsly<3.0.0,>=2.4.3 in /usr/local/lib/python3.10/dist-packages (from spacy<3.7.0,>=3.6.0->en-core-web-lg==3.6.0) (2.4.7)\n",
            "Requirement already satisfied: catalogue<2.1.0,>=2.0.6 in /usr/local/lib/python3.10/dist-packages (from spacy<3.7.0,>=3.6.0->en-core-web-lg==3.6.0) (2.0.9)\n",
            "Requirement already satisfied: typer<0.10.0,>=0.3.0 in /usr/local/lib/python3.10/dist-packages (from spacy<3.7.0,>=3.6.0->en-core-web-lg==3.6.0) (0.9.0)\n",
            "Requirement already satisfied: pathy>=0.10.0 in /usr/local/lib/python3.10/dist-packages (from spacy<3.7.0,>=3.6.0->en-core-web-lg==3.6.0) (0.10.2)\n",
            "Requirement already satisfied: smart-open<7.0.0,>=5.2.1 in /usr/local/lib/python3.10/dist-packages (from spacy<3.7.0,>=3.6.0->en-core-web-lg==3.6.0) (6.3.0)\n",
            "Requirement already satisfied: tqdm<5.0.0,>=4.38.0 in /usr/local/lib/python3.10/dist-packages (from spacy<3.7.0,>=3.6.0->en-core-web-lg==3.6.0) (4.66.1)\n",
            "Requirement already satisfied: numpy>=1.15.0 in /usr/local/lib/python3.10/dist-packages (from spacy<3.7.0,>=3.6.0->en-core-web-lg==3.6.0) (1.23.5)\n",
            "Requirement already satisfied: requests<3.0.0,>=2.13.0 in /usr/local/lib/python3.10/dist-packages (from spacy<3.7.0,>=3.6.0->en-core-web-lg==3.6.0) (2.31.0)\n",
            "Requirement already satisfied: pydantic!=1.8,!=1.8.1,<3.0.0,>=1.7.4 in /usr/local/lib/python3.10/dist-packages (from spacy<3.7.0,>=3.6.0->en-core-web-lg==3.6.0) (2.2.1)\n",
            "Requirement already satisfied: jinja2 in /usr/local/lib/python3.10/dist-packages (from spacy<3.7.0,>=3.6.0->en-core-web-lg==3.6.0) (3.1.2)\n",
            "Requirement already satisfied: setuptools in /usr/local/lib/python3.10/dist-packages (from spacy<3.7.0,>=3.6.0->en-core-web-lg==3.6.0) (67.7.2)\n",
            "Requirement already satisfied: packaging>=20.0 in /usr/local/lib/python3.10/dist-packages (from spacy<3.7.0,>=3.6.0->en-core-web-lg==3.6.0) (23.1)\n",
            "Requirement already satisfied: langcodes<4.0.0,>=3.2.0 in /usr/local/lib/python3.10/dist-packages (from spacy<3.7.0,>=3.6.0->en-core-web-lg==3.6.0) (3.3.0)\n",
            "Requirement already satisfied: annotated-types>=0.4.0 in /usr/local/lib/python3.10/dist-packages (from pydantic!=1.8,!=1.8.1,<3.0.0,>=1.7.4->spacy<3.7.0,>=3.6.0->en-core-web-lg==3.6.0) (0.5.0)\n",
            "Requirement already satisfied: pydantic-core==2.6.1 in /usr/local/lib/python3.10/dist-packages (from pydantic!=1.8,!=1.8.1,<3.0.0,>=1.7.4->spacy<3.7.0,>=3.6.0->en-core-web-lg==3.6.0) (2.6.1)\n",
            "Requirement already satisfied: typing-extensions>=4.6.1 in /usr/local/lib/python3.10/dist-packages (from pydantic!=1.8,!=1.8.1,<3.0.0,>=1.7.4->spacy<3.7.0,>=3.6.0->en-core-web-lg==3.6.0) (4.7.1)\n",
            "Requirement already satisfied: charset-normalizer<4,>=2 in /usr/local/lib/python3.10/dist-packages (from requests<3.0.0,>=2.13.0->spacy<3.7.0,>=3.6.0->en-core-web-lg==3.6.0) (3.2.0)\n",
            "Requirement already satisfied: idna<4,>=2.5 in /usr/local/lib/python3.10/dist-packages (from requests<3.0.0,>=2.13.0->spacy<3.7.0,>=3.6.0->en-core-web-lg==3.6.0) (3.4)\n",
            "Requirement already satisfied: urllib3<3,>=1.21.1 in /usr/local/lib/python3.10/dist-packages (from requests<3.0.0,>=2.13.0->spacy<3.7.0,>=3.6.0->en-core-web-lg==3.6.0) (2.0.4)\n",
            "Requirement already satisfied: certifi>=2017.4.17 in /usr/local/lib/python3.10/dist-packages (from requests<3.0.0,>=2.13.0->spacy<3.7.0,>=3.6.0->en-core-web-lg==3.6.0) (2023.7.22)\n",
            "Requirement already satisfied: blis<0.8.0,>=0.7.8 in /usr/local/lib/python3.10/dist-packages (from thinc<8.2.0,>=8.1.8->spacy<3.7.0,>=3.6.0->en-core-web-lg==3.6.0) (0.7.10)\n",
            "Requirement already satisfied: confection<1.0.0,>=0.0.1 in /usr/local/lib/python3.10/dist-packages (from thinc<8.2.0,>=8.1.8->spacy<3.7.0,>=3.6.0->en-core-web-lg==3.6.0) (0.1.1)\n",
            "Requirement already satisfied: click<9.0.0,>=7.1.1 in /usr/local/lib/python3.10/dist-packages (from typer<0.10.0,>=0.3.0->spacy<3.7.0,>=3.6.0->en-core-web-lg==3.6.0) (8.1.7)\n",
            "Requirement already satisfied: MarkupSafe>=2.0 in /usr/local/lib/python3.10/dist-packages (from jinja2->spacy<3.7.0,>=3.6.0->en-core-web-lg==3.6.0) (2.1.3)\n",
            "Installing collected packages: en-core-web-lg\n",
            "Successfully installed en-core-web-lg-3.6.0\n",
            "\u001b[38;5;2m✔ Download and installation successful\u001b[0m\n",
            "You can now load the package via spacy.load('en_core_web_lg')\n"
          ]
        }
      ]
    },
    {
      "cell_type": "code",
      "source": [
        "# Understand existing NER functionality of model\n",
        "\n",
        "doc = nlp_lg(sentences[0])\n",
        "print(doc.text)\n",
        "for token in doc:\n",
        "    print(token.text, token.pos_, token.dep_, token.ent_type_)"
      ],
      "metadata": {
        "colab": {
          "base_uri": "https://localhost:8080/"
        },
        "id": "C89u6VZ0ffqj",
        "outputId": "42db9007-7fda-4ed3-8a76-8b091989a5af"
      },
      "execution_count": null,
      "outputs": [
        {
          "output_type": "stream",
          "name": "stdout",
          "text": [
            "Apple is looking at buying U.K. startup for $1 billion\n",
            "Apple PROPN nsubj ORG\n",
            "is AUX aux \n",
            "looking VERB ROOT \n",
            "at ADP prep \n",
            "buying VERB pcomp \n",
            "U.K. PROPN dobj GPE\n",
            "startup NOUN ccomp \n",
            "for ADP prep \n",
            "$ SYM quantmod MONEY\n",
            "1 NUM compound MONEY\n",
            "billion NUM pobj MONEY\n"
          ]
        }
      ]
    },
    {
      "cell_type": "code",
      "source": [
        "doc = nlp_lg(\"Java is programming language used in development.\")\n",
        "print(doc.ents[0] , type(doc), type(doc.ents[0]))\n"
      ],
      "metadata": {
        "colab": {
          "base_uri": "https://localhost:8080/"
        },
        "id": "mWjndqv8hIEG",
        "outputId": "f9ab93fe-9392-4720-ddc9-5954acc92a5b"
      },
      "execution_count": null,
      "outputs": [
        {
          "output_type": "stream",
          "name": "stdout",
          "text": [
            "Java <class 'spacy.tokens.doc.Doc'> <class 'spacy.tokens.span.Span'>\n"
          ]
        }
      ]
    },
    {
      "cell_type": "code",
      "source": [
        "for token in doc:\n",
        "  print(token.text, token.ent_type_)"
      ],
      "metadata": {
        "colab": {
          "base_uri": "https://localhost:8080/"
        },
        "id": "vsCHpBNClDtn",
        "outputId": "1731b167-7ee1-4622-dd27-aff64df80ea3"
      },
      "execution_count": null,
      "outputs": [
        {
          "output_type": "stream",
          "name": "stdout",
          "text": [
            "Java GPE\n",
            "is \n",
            "programming \n",
            "language \n",
            "used \n",
            "in \n",
            "development \n",
            ". \n"
          ]
        }
      ]
    },
    {
      "cell_type": "code",
      "source": [
        "from spacy import displacy\n",
        "doc = nlp_lg(\"Java is programming language used in development.\")\n",
        "displacy.render(doc,style =\"ent\",jupyter=True)"
      ],
      "metadata": {
        "colab": {
          "base_uri": "https://localhost:8080/",
          "height": 52
        },
        "id": "V_jAshcolkTR",
        "outputId": "032f6407-ba0e-471b-a1cb-2292429e7292"
      },
      "execution_count": null,
      "outputs": [
        {
          "output_type": "display_data",
          "data": {
            "text/plain": [
              "<IPython.core.display.HTML object>"
            ],
            "text/html": [
              "<span class=\"tex2jax_ignore\"><div class=\"entities\" style=\"line-height: 2.5; direction: ltr\">\n",
              "<mark class=\"entity\" style=\"background: #feca74; padding: 0.45em 0.6em; margin: 0 0.25em; line-height: 1; border-radius: 0.35em;\">\n",
              "    Java\n",
              "    <span style=\"font-size: 0.8em; font-weight: bold; line-height: 1; border-radius: 0.35em; vertical-align: middle; margin-left: 0.5rem\">GPE</span>\n",
              "</mark>\n",
              " is programming language used in development.</div></span>"
            ]
          },
          "metadata": {}
        }
      ]
    },
    {
      "cell_type": "markdown",
      "source": [
        "Conclusion : model is not able to predict the entities as per our requirement.\n",
        "\n",
        "Requirement : Java should be recognized as technical skill\n"
      ],
      "metadata": {
        "id": "i93UVPZ-kman"
      }
    },
    {
      "cell_type": "markdown",
      "source": [
        "#### Prepareing data to train model"
      ],
      "metadata": {
        "id": "__x6tRlcpzNQ"
      }
    },
    {
      "cell_type": "code",
      "source": [
        "import pandas as pd\n",
        "import numpy as np"
      ],
      "metadata": {
        "id": "LlPr7hbWp2NY"
      },
      "execution_count": null,
      "outputs": []
    },
    {
      "cell_type": "code",
      "source": [
        "tech_data = pd.read_excel('Technology Skills.xlsx')\n",
        "tech_data"
      ],
      "metadata": {
        "colab": {
          "base_uri": "https://localhost:8080/",
          "height": 597
        },
        "id": "t_3d9KiNtIJz",
        "outputId": "d7164511-d58a-4ca5-8442-45701a67eff9"
      },
      "execution_count": null,
      "outputs": [
        {
          "output_type": "execute_result",
          "data": {
            "text/plain": [
              "      O*NET-SOC Code                              Title  \\\n",
              "0         11-1011.00                   Chief Executives   \n",
              "1         11-1011.00                   Chief Executives   \n",
              "2         11-1011.00                   Chief Executives   \n",
              "3         11-1011.00                   Chief Executives   \n",
              "4         11-1011.00                   Chief Executives   \n",
              "...              ...                                ...   \n",
              "27853     53-7111.00         Mine Shuttle Car Operators   \n",
              "27854     53-7121.00  Tank Car, Truck, and Ship Loaders   \n",
              "27855     53-7121.00  Tank Car, Truck, and Ship Loaders   \n",
              "27856     53-7121.00  Tank Car, Truck, and Ship Loaders   \n",
              "27857     53-7121.00  Tank Car, Truck, and Ship Loaders   \n",
              "\n",
              "                                    Example  Commodity Code  \\\n",
              "0               Adobe Systems Adobe Acrobat        43232202   \n",
              "1                           AdSense Tracker        43232306   \n",
              "2                            Atlassian JIRA        43232201   \n",
              "3               Blackbaud The Raiser's Edge        43232303   \n",
              "4      ComputerEase Construction Accounting        43231601   \n",
              "...                                     ...             ...   \n",
              "27853             Mine maintenance software        43232603   \n",
              "27854                        CompuWeigh GMS        43232306   \n",
              "27855                   Data entry software        43232306   \n",
              "27856        Distributed control system DCS        43231506   \n",
              "27857                       Microsoft Excel        43232110   \n",
              "\n",
              "                                         Commodity Title Hot Technology  \n",
              "0                           Document management software              Y  \n",
              "1            Data base user interface and query software              N  \n",
              "2                              Content workflow software              Y  \n",
              "3          Customer relationship management CRM software              Y  \n",
              "4                                    Accounting software              N  \n",
              "...                                                  ...            ...  \n",
              "27853                     Facilities management software              N  \n",
              "27854        Data base user interface and query software              N  \n",
              "27855        Data base user interface and query software              Y  \n",
              "27856  Materials requirements planning logistics and ...              N  \n",
              "27857                               Spreadsheet software              Y  \n",
              "\n",
              "[27858 rows x 6 columns]"
            ],
            "text/html": [
              "\n",
              "  <div id=\"df-9fa79bf7-c026-4d65-bac1-e6ca75aabb7a\" class=\"colab-df-container\">\n",
              "    <div>\n",
              "<style scoped>\n",
              "    .dataframe tbody tr th:only-of-type {\n",
              "        vertical-align: middle;\n",
              "    }\n",
              "\n",
              "    .dataframe tbody tr th {\n",
              "        vertical-align: top;\n",
              "    }\n",
              "\n",
              "    .dataframe thead th {\n",
              "        text-align: right;\n",
              "    }\n",
              "</style>\n",
              "<table border=\"1\" class=\"dataframe\">\n",
              "  <thead>\n",
              "    <tr style=\"text-align: right;\">\n",
              "      <th></th>\n",
              "      <th>O*NET-SOC Code</th>\n",
              "      <th>Title</th>\n",
              "      <th>Example</th>\n",
              "      <th>Commodity Code</th>\n",
              "      <th>Commodity Title</th>\n",
              "      <th>Hot Technology</th>\n",
              "    </tr>\n",
              "  </thead>\n",
              "  <tbody>\n",
              "    <tr>\n",
              "      <th>0</th>\n",
              "      <td>11-1011.00</td>\n",
              "      <td>Chief Executives</td>\n",
              "      <td>Adobe Systems Adobe Acrobat</td>\n",
              "      <td>43232202</td>\n",
              "      <td>Document management software</td>\n",
              "      <td>Y</td>\n",
              "    </tr>\n",
              "    <tr>\n",
              "      <th>1</th>\n",
              "      <td>11-1011.00</td>\n",
              "      <td>Chief Executives</td>\n",
              "      <td>AdSense Tracker</td>\n",
              "      <td>43232306</td>\n",
              "      <td>Data base user interface and query software</td>\n",
              "      <td>N</td>\n",
              "    </tr>\n",
              "    <tr>\n",
              "      <th>2</th>\n",
              "      <td>11-1011.00</td>\n",
              "      <td>Chief Executives</td>\n",
              "      <td>Atlassian JIRA</td>\n",
              "      <td>43232201</td>\n",
              "      <td>Content workflow software</td>\n",
              "      <td>Y</td>\n",
              "    </tr>\n",
              "    <tr>\n",
              "      <th>3</th>\n",
              "      <td>11-1011.00</td>\n",
              "      <td>Chief Executives</td>\n",
              "      <td>Blackbaud The Raiser's Edge</td>\n",
              "      <td>43232303</td>\n",
              "      <td>Customer relationship management CRM software</td>\n",
              "      <td>Y</td>\n",
              "    </tr>\n",
              "    <tr>\n",
              "      <th>4</th>\n",
              "      <td>11-1011.00</td>\n",
              "      <td>Chief Executives</td>\n",
              "      <td>ComputerEase Construction Accounting</td>\n",
              "      <td>43231601</td>\n",
              "      <td>Accounting software</td>\n",
              "      <td>N</td>\n",
              "    </tr>\n",
              "    <tr>\n",
              "      <th>...</th>\n",
              "      <td>...</td>\n",
              "      <td>...</td>\n",
              "      <td>...</td>\n",
              "      <td>...</td>\n",
              "      <td>...</td>\n",
              "      <td>...</td>\n",
              "    </tr>\n",
              "    <tr>\n",
              "      <th>27853</th>\n",
              "      <td>53-7111.00</td>\n",
              "      <td>Mine Shuttle Car Operators</td>\n",
              "      <td>Mine maintenance software</td>\n",
              "      <td>43232603</td>\n",
              "      <td>Facilities management software</td>\n",
              "      <td>N</td>\n",
              "    </tr>\n",
              "    <tr>\n",
              "      <th>27854</th>\n",
              "      <td>53-7121.00</td>\n",
              "      <td>Tank Car, Truck, and Ship Loaders</td>\n",
              "      <td>CompuWeigh GMS</td>\n",
              "      <td>43232306</td>\n",
              "      <td>Data base user interface and query software</td>\n",
              "      <td>N</td>\n",
              "    </tr>\n",
              "    <tr>\n",
              "      <th>27855</th>\n",
              "      <td>53-7121.00</td>\n",
              "      <td>Tank Car, Truck, and Ship Loaders</td>\n",
              "      <td>Data entry software</td>\n",
              "      <td>43232306</td>\n",
              "      <td>Data base user interface and query software</td>\n",
              "      <td>Y</td>\n",
              "    </tr>\n",
              "    <tr>\n",
              "      <th>27856</th>\n",
              "      <td>53-7121.00</td>\n",
              "      <td>Tank Car, Truck, and Ship Loaders</td>\n",
              "      <td>Distributed control system DCS</td>\n",
              "      <td>43231506</td>\n",
              "      <td>Materials requirements planning logistics and ...</td>\n",
              "      <td>N</td>\n",
              "    </tr>\n",
              "    <tr>\n",
              "      <th>27857</th>\n",
              "      <td>53-7121.00</td>\n",
              "      <td>Tank Car, Truck, and Ship Loaders</td>\n",
              "      <td>Microsoft Excel</td>\n",
              "      <td>43232110</td>\n",
              "      <td>Spreadsheet software</td>\n",
              "      <td>Y</td>\n",
              "    </tr>\n",
              "  </tbody>\n",
              "</table>\n",
              "<p>27858 rows × 6 columns</p>\n",
              "</div>\n",
              "    <div class=\"colab-df-buttons\">\n",
              "\n",
              "  <div class=\"colab-df-container\">\n",
              "    <button class=\"colab-df-convert\" onclick=\"convertToInteractive('df-9fa79bf7-c026-4d65-bac1-e6ca75aabb7a')\"\n",
              "            title=\"Convert this dataframe to an interactive table.\"\n",
              "            style=\"display:none;\">\n",
              "\n",
              "  <svg xmlns=\"http://www.w3.org/2000/svg\" height=\"24px\" viewBox=\"0 -960 960 960\">\n",
              "    <path d=\"M120-120v-720h720v720H120Zm60-500h600v-160H180v160Zm220 220h160v-160H400v160Zm0 220h160v-160H400v160ZM180-400h160v-160H180v160Zm440 0h160v-160H620v160ZM180-180h160v-160H180v160Zm440 0h160v-160H620v160Z\"/>\n",
              "  </svg>\n",
              "    </button>\n",
              "\n",
              "  <style>\n",
              "    .colab-df-container {\n",
              "      display:flex;\n",
              "      gap: 12px;\n",
              "    }\n",
              "\n",
              "    .colab-df-convert {\n",
              "      background-color: #E8F0FE;\n",
              "      border: none;\n",
              "      border-radius: 50%;\n",
              "      cursor: pointer;\n",
              "      display: none;\n",
              "      fill: #1967D2;\n",
              "      height: 32px;\n",
              "      padding: 0 0 0 0;\n",
              "      width: 32px;\n",
              "    }\n",
              "\n",
              "    .colab-df-convert:hover {\n",
              "      background-color: #E2EBFA;\n",
              "      box-shadow: 0px 1px 2px rgba(60, 64, 67, 0.3), 0px 1px 3px 1px rgba(60, 64, 67, 0.15);\n",
              "      fill: #174EA6;\n",
              "    }\n",
              "\n",
              "    .colab-df-buttons div {\n",
              "      margin-bottom: 4px;\n",
              "    }\n",
              "\n",
              "    [theme=dark] .colab-df-convert {\n",
              "      background-color: #3B4455;\n",
              "      fill: #D2E3FC;\n",
              "    }\n",
              "\n",
              "    [theme=dark] .colab-df-convert:hover {\n",
              "      background-color: #434B5C;\n",
              "      box-shadow: 0px 1px 3px 1px rgba(0, 0, 0, 0.15);\n",
              "      filter: drop-shadow(0px 1px 2px rgba(0, 0, 0, 0.3));\n",
              "      fill: #FFFFFF;\n",
              "    }\n",
              "  </style>\n",
              "\n",
              "    <script>\n",
              "      const buttonEl =\n",
              "        document.querySelector('#df-9fa79bf7-c026-4d65-bac1-e6ca75aabb7a button.colab-df-convert');\n",
              "      buttonEl.style.display =\n",
              "        google.colab.kernel.accessAllowed ? 'block' : 'none';\n",
              "\n",
              "      async function convertToInteractive(key) {\n",
              "        const element = document.querySelector('#df-9fa79bf7-c026-4d65-bac1-e6ca75aabb7a');\n",
              "        const dataTable =\n",
              "          await google.colab.kernel.invokeFunction('convertToInteractive',\n",
              "                                                    [key], {});\n",
              "        if (!dataTable) return;\n",
              "\n",
              "        const docLinkHtml = 'Like what you see? Visit the ' +\n",
              "          '<a target=\"_blank\" href=https://colab.research.google.com/notebooks/data_table.ipynb>data table notebook</a>'\n",
              "          + ' to learn more about interactive tables.';\n",
              "        element.innerHTML = '';\n",
              "        dataTable['output_type'] = 'display_data';\n",
              "        await google.colab.output.renderOutput(dataTable, element);\n",
              "        const docLink = document.createElement('div');\n",
              "        docLink.innerHTML = docLinkHtml;\n",
              "        element.appendChild(docLink);\n",
              "      }\n",
              "    </script>\n",
              "  </div>\n",
              "\n",
              "\n",
              "<div id=\"df-91747e0b-389f-4746-b9da-c71d01a96083\">\n",
              "  <button class=\"colab-df-quickchart\" onclick=\"quickchart('df-91747e0b-389f-4746-b9da-c71d01a96083')\"\n",
              "            title=\"Suggest charts.\"\n",
              "            style=\"display:none;\">\n",
              "\n",
              "<svg xmlns=\"http://www.w3.org/2000/svg\" height=\"24px\"viewBox=\"0 0 24 24\"\n",
              "     width=\"24px\">\n",
              "    <g>\n",
              "        <path d=\"M19 3H5c-1.1 0-2 .9-2 2v14c0 1.1.9 2 2 2h14c1.1 0 2-.9 2-2V5c0-1.1-.9-2-2-2zM9 17H7v-7h2v7zm4 0h-2V7h2v10zm4 0h-2v-4h2v4z\"/>\n",
              "    </g>\n",
              "</svg>\n",
              "  </button>\n",
              "\n",
              "<style>\n",
              "  .colab-df-quickchart {\n",
              "    background-color: #E8F0FE;\n",
              "    border: none;\n",
              "    border-radius: 50%;\n",
              "    cursor: pointer;\n",
              "    display: none;\n",
              "    fill: #1967D2;\n",
              "    height: 32px;\n",
              "    padding: 0 0 0 0;\n",
              "    width: 32px;\n",
              "  }\n",
              "\n",
              "  .colab-df-quickchart:hover {\n",
              "    background-color: #E2EBFA;\n",
              "    box-shadow: 0px 1px 2px rgba(60, 64, 67, 0.3), 0px 1px 3px 1px rgba(60, 64, 67, 0.15);\n",
              "    fill: #174EA6;\n",
              "  }\n",
              "\n",
              "  [theme=dark] .colab-df-quickchart {\n",
              "    background-color: #3B4455;\n",
              "    fill: #D2E3FC;\n",
              "  }\n",
              "\n",
              "  [theme=dark] .colab-df-quickchart:hover {\n",
              "    background-color: #434B5C;\n",
              "    box-shadow: 0px 1px 3px 1px rgba(0, 0, 0, 0.15);\n",
              "    filter: drop-shadow(0px 1px 2px rgba(0, 0, 0, 0.3));\n",
              "    fill: #FFFFFF;\n",
              "  }\n",
              "</style>\n",
              "\n",
              "  <script>\n",
              "    async function quickchart(key) {\n",
              "      const charts = await google.colab.kernel.invokeFunction(\n",
              "          'suggestCharts', [key], {});\n",
              "    }\n",
              "    (() => {\n",
              "      let quickchartButtonEl =\n",
              "        document.querySelector('#df-91747e0b-389f-4746-b9da-c71d01a96083 button');\n",
              "      quickchartButtonEl.style.display =\n",
              "        google.colab.kernel.accessAllowed ? 'block' : 'none';\n",
              "    })();\n",
              "  </script>\n",
              "</div>\n",
              "    </div>\n",
              "  </div>\n"
            ]
          },
          "metadata": {},
          "execution_count": 11
        }
      ]
    },
    {
      "cell_type": "markdown",
      "source": [
        "Above data can be used to collect technical skills and career domains from Example and Title column respectively."
      ],
      "metadata": {
        "id": "_TRIWEO3t5QQ"
      }
    },
    {
      "cell_type": "code",
      "source": [
        "# All data is describing technical skills and domain where it is being used.\n",
        "tech_data[tech_data['Example'].str.contains(\"java\",case=False)]"
      ],
      "metadata": {
        "colab": {
          "base_uri": "https://localhost:8080/",
          "height": 614
        },
        "id": "qAJ70zQMvgPY",
        "outputId": "0c5bb083-db3f-44a2-ebb5-07ac9f1f8964"
      },
      "execution_count": null,
      "outputs": [
        {
          "output_type": "execute_result",
          "data": {
            "text/plain": [
              "      O*NET-SOC Code                                              Title  \\\n",
              "246       11-2011.00                Advertising and Promotions Managers   \n",
              "287       11-2011.01                                    Green Marketers   \n",
              "371       11-2021.00                                 Marketing Managers   \n",
              "407       11-2021.00                                 Marketing Managers   \n",
              "674       11-3021.00          Computer and Information Systems Managers   \n",
              "...              ...                                                ...   \n",
              "24763     43-9031.00                                 Desktop Publishers   \n",
              "24777     43-9031.00                                 Desktop Publishers   \n",
              "24947     43-9111.00                             Statistical Assistants   \n",
              "24977     43-9111.01                         Bioinformatics Technicians   \n",
              "25789     49-2011.00  Computer, Automated Teller, and Office Machine...   \n",
              "\n",
              "                           Example  Commodity Code  \\\n",
              "246                     JavaScript        43232408   \n",
              "287                     JavaScript        43232408   \n",
              "371                     JavaScript        43232408   \n",
              "407    Oracle JavaServer Pages JSP        43232408   \n",
              "674           Enterprise JavaBeans        43232408   \n",
              "...                            ...             ...   \n",
              "24763                  Oracle Java        43232405   \n",
              "24777        Sun Microsystems Java        43232405   \n",
              "24947                  Oracle Java        43232405   \n",
              "24977                  Oracle Java        43232405   \n",
              "25789                   JavaScript        43232408   \n",
              "\n",
              "                                         Commodity Title Hot Technology  \n",
              "246                    Web platform development software              Y  \n",
              "287                    Web platform development software              Y  \n",
              "371                    Web platform development software              Y  \n",
              "407                    Web platform development software              Y  \n",
              "674                    Web platform development software              Y  \n",
              "...                                                  ...            ...  \n",
              "24763  Object or component oriented development software              Y  \n",
              "24777  Object or component oriented development software              N  \n",
              "24947  Object or component oriented development software              Y  \n",
              "24977  Object or component oriented development software              Y  \n",
              "25789                  Web platform development software              Y  \n",
              "\n",
              "[220 rows x 6 columns]"
            ],
            "text/html": [
              "\n",
              "  <div id=\"df-add5efe3-4529-4252-95e3-7b0ed56af6e4\" class=\"colab-df-container\">\n",
              "    <div>\n",
              "<style scoped>\n",
              "    .dataframe tbody tr th:only-of-type {\n",
              "        vertical-align: middle;\n",
              "    }\n",
              "\n",
              "    .dataframe tbody tr th {\n",
              "        vertical-align: top;\n",
              "    }\n",
              "\n",
              "    .dataframe thead th {\n",
              "        text-align: right;\n",
              "    }\n",
              "</style>\n",
              "<table border=\"1\" class=\"dataframe\">\n",
              "  <thead>\n",
              "    <tr style=\"text-align: right;\">\n",
              "      <th></th>\n",
              "      <th>O*NET-SOC Code</th>\n",
              "      <th>Title</th>\n",
              "      <th>Example</th>\n",
              "      <th>Commodity Code</th>\n",
              "      <th>Commodity Title</th>\n",
              "      <th>Hot Technology</th>\n",
              "    </tr>\n",
              "  </thead>\n",
              "  <tbody>\n",
              "    <tr>\n",
              "      <th>246</th>\n",
              "      <td>11-2011.00</td>\n",
              "      <td>Advertising and Promotions Managers</td>\n",
              "      <td>JavaScript</td>\n",
              "      <td>43232408</td>\n",
              "      <td>Web platform development software</td>\n",
              "      <td>Y</td>\n",
              "    </tr>\n",
              "    <tr>\n",
              "      <th>287</th>\n",
              "      <td>11-2011.01</td>\n",
              "      <td>Green Marketers</td>\n",
              "      <td>JavaScript</td>\n",
              "      <td>43232408</td>\n",
              "      <td>Web platform development software</td>\n",
              "      <td>Y</td>\n",
              "    </tr>\n",
              "    <tr>\n",
              "      <th>371</th>\n",
              "      <td>11-2021.00</td>\n",
              "      <td>Marketing Managers</td>\n",
              "      <td>JavaScript</td>\n",
              "      <td>43232408</td>\n",
              "      <td>Web platform development software</td>\n",
              "      <td>Y</td>\n",
              "    </tr>\n",
              "    <tr>\n",
              "      <th>407</th>\n",
              "      <td>11-2021.00</td>\n",
              "      <td>Marketing Managers</td>\n",
              "      <td>Oracle JavaServer Pages JSP</td>\n",
              "      <td>43232408</td>\n",
              "      <td>Web platform development software</td>\n",
              "      <td>Y</td>\n",
              "    </tr>\n",
              "    <tr>\n",
              "      <th>674</th>\n",
              "      <td>11-3021.00</td>\n",
              "      <td>Computer and Information Systems Managers</td>\n",
              "      <td>Enterprise JavaBeans</td>\n",
              "      <td>43232408</td>\n",
              "      <td>Web platform development software</td>\n",
              "      <td>Y</td>\n",
              "    </tr>\n",
              "    <tr>\n",
              "      <th>...</th>\n",
              "      <td>...</td>\n",
              "      <td>...</td>\n",
              "      <td>...</td>\n",
              "      <td>...</td>\n",
              "      <td>...</td>\n",
              "      <td>...</td>\n",
              "    </tr>\n",
              "    <tr>\n",
              "      <th>24763</th>\n",
              "      <td>43-9031.00</td>\n",
              "      <td>Desktop Publishers</td>\n",
              "      <td>Oracle Java</td>\n",
              "      <td>43232405</td>\n",
              "      <td>Object or component oriented development software</td>\n",
              "      <td>Y</td>\n",
              "    </tr>\n",
              "    <tr>\n",
              "      <th>24777</th>\n",
              "      <td>43-9031.00</td>\n",
              "      <td>Desktop Publishers</td>\n",
              "      <td>Sun Microsystems Java</td>\n",
              "      <td>43232405</td>\n",
              "      <td>Object or component oriented development software</td>\n",
              "      <td>N</td>\n",
              "    </tr>\n",
              "    <tr>\n",
              "      <th>24947</th>\n",
              "      <td>43-9111.00</td>\n",
              "      <td>Statistical Assistants</td>\n",
              "      <td>Oracle Java</td>\n",
              "      <td>43232405</td>\n",
              "      <td>Object or component oriented development software</td>\n",
              "      <td>Y</td>\n",
              "    </tr>\n",
              "    <tr>\n",
              "      <th>24977</th>\n",
              "      <td>43-9111.01</td>\n",
              "      <td>Bioinformatics Technicians</td>\n",
              "      <td>Oracle Java</td>\n",
              "      <td>43232405</td>\n",
              "      <td>Object or component oriented development software</td>\n",
              "      <td>Y</td>\n",
              "    </tr>\n",
              "    <tr>\n",
              "      <th>25789</th>\n",
              "      <td>49-2011.00</td>\n",
              "      <td>Computer, Automated Teller, and Office Machine...</td>\n",
              "      <td>JavaScript</td>\n",
              "      <td>43232408</td>\n",
              "      <td>Web platform development software</td>\n",
              "      <td>Y</td>\n",
              "    </tr>\n",
              "  </tbody>\n",
              "</table>\n",
              "<p>220 rows × 6 columns</p>\n",
              "</div>\n",
              "    <div class=\"colab-df-buttons\">\n",
              "\n",
              "  <div class=\"colab-df-container\">\n",
              "    <button class=\"colab-df-convert\" onclick=\"convertToInteractive('df-add5efe3-4529-4252-95e3-7b0ed56af6e4')\"\n",
              "            title=\"Convert this dataframe to an interactive table.\"\n",
              "            style=\"display:none;\">\n",
              "\n",
              "  <svg xmlns=\"http://www.w3.org/2000/svg\" height=\"24px\" viewBox=\"0 -960 960 960\">\n",
              "    <path d=\"M120-120v-720h720v720H120Zm60-500h600v-160H180v160Zm220 220h160v-160H400v160Zm0 220h160v-160H400v160ZM180-400h160v-160H180v160Zm440 0h160v-160H620v160ZM180-180h160v-160H180v160Zm440 0h160v-160H620v160Z\"/>\n",
              "  </svg>\n",
              "    </button>\n",
              "\n",
              "  <style>\n",
              "    .colab-df-container {\n",
              "      display:flex;\n",
              "      gap: 12px;\n",
              "    }\n",
              "\n",
              "    .colab-df-convert {\n",
              "      background-color: #E8F0FE;\n",
              "      border: none;\n",
              "      border-radius: 50%;\n",
              "      cursor: pointer;\n",
              "      display: none;\n",
              "      fill: #1967D2;\n",
              "      height: 32px;\n",
              "      padding: 0 0 0 0;\n",
              "      width: 32px;\n",
              "    }\n",
              "\n",
              "    .colab-df-convert:hover {\n",
              "      background-color: #E2EBFA;\n",
              "      box-shadow: 0px 1px 2px rgba(60, 64, 67, 0.3), 0px 1px 3px 1px rgba(60, 64, 67, 0.15);\n",
              "      fill: #174EA6;\n",
              "    }\n",
              "\n",
              "    .colab-df-buttons div {\n",
              "      margin-bottom: 4px;\n",
              "    }\n",
              "\n",
              "    [theme=dark] .colab-df-convert {\n",
              "      background-color: #3B4455;\n",
              "      fill: #D2E3FC;\n",
              "    }\n",
              "\n",
              "    [theme=dark] .colab-df-convert:hover {\n",
              "      background-color: #434B5C;\n",
              "      box-shadow: 0px 1px 3px 1px rgba(0, 0, 0, 0.15);\n",
              "      filter: drop-shadow(0px 1px 2px rgba(0, 0, 0, 0.3));\n",
              "      fill: #FFFFFF;\n",
              "    }\n",
              "  </style>\n",
              "\n",
              "    <script>\n",
              "      const buttonEl =\n",
              "        document.querySelector('#df-add5efe3-4529-4252-95e3-7b0ed56af6e4 button.colab-df-convert');\n",
              "      buttonEl.style.display =\n",
              "        google.colab.kernel.accessAllowed ? 'block' : 'none';\n",
              "\n",
              "      async function convertToInteractive(key) {\n",
              "        const element = document.querySelector('#df-add5efe3-4529-4252-95e3-7b0ed56af6e4');\n",
              "        const dataTable =\n",
              "          await google.colab.kernel.invokeFunction('convertToInteractive',\n",
              "                                                    [key], {});\n",
              "        if (!dataTable) return;\n",
              "\n",
              "        const docLinkHtml = 'Like what you see? Visit the ' +\n",
              "          '<a target=\"_blank\" href=https://colab.research.google.com/notebooks/data_table.ipynb>data table notebook</a>'\n",
              "          + ' to learn more about interactive tables.';\n",
              "        element.innerHTML = '';\n",
              "        dataTable['output_type'] = 'display_data';\n",
              "        await google.colab.output.renderOutput(dataTable, element);\n",
              "        const docLink = document.createElement('div');\n",
              "        docLink.innerHTML = docLinkHtml;\n",
              "        element.appendChild(docLink);\n",
              "      }\n",
              "    </script>\n",
              "  </div>\n",
              "\n",
              "\n",
              "<div id=\"df-e8ce6fb2-2069-47ba-a7ac-a399b199b5d6\">\n",
              "  <button class=\"colab-df-quickchart\" onclick=\"quickchart('df-e8ce6fb2-2069-47ba-a7ac-a399b199b5d6')\"\n",
              "            title=\"Suggest charts.\"\n",
              "            style=\"display:none;\">\n",
              "\n",
              "<svg xmlns=\"http://www.w3.org/2000/svg\" height=\"24px\"viewBox=\"0 0 24 24\"\n",
              "     width=\"24px\">\n",
              "    <g>\n",
              "        <path d=\"M19 3H5c-1.1 0-2 .9-2 2v14c0 1.1.9 2 2 2h14c1.1 0 2-.9 2-2V5c0-1.1-.9-2-2-2zM9 17H7v-7h2v7zm4 0h-2V7h2v10zm4 0h-2v-4h2v4z\"/>\n",
              "    </g>\n",
              "</svg>\n",
              "  </button>\n",
              "\n",
              "<style>\n",
              "  .colab-df-quickchart {\n",
              "    background-color: #E8F0FE;\n",
              "    border: none;\n",
              "    border-radius: 50%;\n",
              "    cursor: pointer;\n",
              "    display: none;\n",
              "    fill: #1967D2;\n",
              "    height: 32px;\n",
              "    padding: 0 0 0 0;\n",
              "    width: 32px;\n",
              "  }\n",
              "\n",
              "  .colab-df-quickchart:hover {\n",
              "    background-color: #E2EBFA;\n",
              "    box-shadow: 0px 1px 2px rgba(60, 64, 67, 0.3), 0px 1px 3px 1px rgba(60, 64, 67, 0.15);\n",
              "    fill: #174EA6;\n",
              "  }\n",
              "\n",
              "  [theme=dark] .colab-df-quickchart {\n",
              "    background-color: #3B4455;\n",
              "    fill: #D2E3FC;\n",
              "  }\n",
              "\n",
              "  [theme=dark] .colab-df-quickchart:hover {\n",
              "    background-color: #434B5C;\n",
              "    box-shadow: 0px 1px 3px 1px rgba(0, 0, 0, 0.15);\n",
              "    filter: drop-shadow(0px 1px 2px rgba(0, 0, 0, 0.3));\n",
              "    fill: #FFFFFF;\n",
              "  }\n",
              "</style>\n",
              "\n",
              "  <script>\n",
              "    async function quickchart(key) {\n",
              "      const charts = await google.colab.kernel.invokeFunction(\n",
              "          'suggestCharts', [key], {});\n",
              "    }\n",
              "    (() => {\n",
              "      let quickchartButtonEl =\n",
              "        document.querySelector('#df-e8ce6fb2-2069-47ba-a7ac-a399b199b5d6 button');\n",
              "      quickchartButtonEl.style.display =\n",
              "        google.colab.kernel.accessAllowed ? 'block' : 'none';\n",
              "    })();\n",
              "  </script>\n",
              "</div>\n",
              "    </div>\n",
              "  </div>\n"
            ]
          },
          "metadata": {},
          "execution_count": 12
        }
      ]
    },
    {
      "cell_type": "code",
      "source": [
        "tech_data2= tech_data\n",
        "tech_data2['content'] = tech_data.apply(lambda row:f\"{row['Title']} {row['Example']} {row['Commodity Title']}\",axis=1)\n",
        "tech_data2"
      ],
      "metadata": {
        "colab": {
          "base_uri": "https://localhost:8080/",
          "height": 805
        },
        "id": "K2bexbWyx0KY",
        "outputId": "c86cfb19-7621-4711-c4ab-fe2b3f16d5c7"
      },
      "execution_count": null,
      "outputs": [
        {
          "output_type": "execute_result",
          "data": {
            "text/plain": [
              "      O*NET-SOC Code                              Title  \\\n",
              "0         11-1011.00                   Chief Executives   \n",
              "1         11-1011.00                   Chief Executives   \n",
              "2         11-1011.00                   Chief Executives   \n",
              "3         11-1011.00                   Chief Executives   \n",
              "4         11-1011.00                   Chief Executives   \n",
              "...              ...                                ...   \n",
              "27853     53-7111.00         Mine Shuttle Car Operators   \n",
              "27854     53-7121.00  Tank Car, Truck, and Ship Loaders   \n",
              "27855     53-7121.00  Tank Car, Truck, and Ship Loaders   \n",
              "27856     53-7121.00  Tank Car, Truck, and Ship Loaders   \n",
              "27857     53-7121.00  Tank Car, Truck, and Ship Loaders   \n",
              "\n",
              "                                    Example  Commodity Code  \\\n",
              "0               Adobe Systems Adobe Acrobat        43232202   \n",
              "1                           AdSense Tracker        43232306   \n",
              "2                            Atlassian JIRA        43232201   \n",
              "3               Blackbaud The Raiser's Edge        43232303   \n",
              "4      ComputerEase Construction Accounting        43231601   \n",
              "...                                     ...             ...   \n",
              "27853             Mine maintenance software        43232603   \n",
              "27854                        CompuWeigh GMS        43232306   \n",
              "27855                   Data entry software        43232306   \n",
              "27856        Distributed control system DCS        43231506   \n",
              "27857                       Microsoft Excel        43232110   \n",
              "\n",
              "                                         Commodity Title Hot Technology  \\\n",
              "0                           Document management software              Y   \n",
              "1            Data base user interface and query software              N   \n",
              "2                              Content workflow software              Y   \n",
              "3          Customer relationship management CRM software              Y   \n",
              "4                                    Accounting software              N   \n",
              "...                                                  ...            ...   \n",
              "27853                     Facilities management software              N   \n",
              "27854        Data base user interface and query software              N   \n",
              "27855        Data base user interface and query software              Y   \n",
              "27856  Materials requirements planning logistics and ...              N   \n",
              "27857                               Spreadsheet software              Y   \n",
              "\n",
              "                                                 content  \n",
              "0      Chief Executives Adobe Systems Adobe Acrobat D...  \n",
              "1      Chief Executives AdSense Tracker Data base use...  \n",
              "2      Chief Executives Atlassian JIRA Content workfl...  \n",
              "3      Chief Executives Blackbaud The Raiser's Edge C...  \n",
              "4      Chief Executives ComputerEase Construction Acc...  \n",
              "...                                                  ...  \n",
              "27853  Mine Shuttle Car Operators Mine maintenance so...  \n",
              "27854  Tank Car, Truck, and Ship Loaders CompuWeigh G...  \n",
              "27855  Tank Car, Truck, and Ship Loaders Data entry s...  \n",
              "27856  Tank Car, Truck, and Ship Loaders Distributed ...  \n",
              "27857  Tank Car, Truck, and Ship Loaders Microsoft Ex...  \n",
              "\n",
              "[27858 rows x 7 columns]"
            ],
            "text/html": [
              "\n",
              "  <div id=\"df-78ea0031-5d5a-46f2-a503-e695268653e6\" class=\"colab-df-container\">\n",
              "    <div>\n",
              "<style scoped>\n",
              "    .dataframe tbody tr th:only-of-type {\n",
              "        vertical-align: middle;\n",
              "    }\n",
              "\n",
              "    .dataframe tbody tr th {\n",
              "        vertical-align: top;\n",
              "    }\n",
              "\n",
              "    .dataframe thead th {\n",
              "        text-align: right;\n",
              "    }\n",
              "</style>\n",
              "<table border=\"1\" class=\"dataframe\">\n",
              "  <thead>\n",
              "    <tr style=\"text-align: right;\">\n",
              "      <th></th>\n",
              "      <th>O*NET-SOC Code</th>\n",
              "      <th>Title</th>\n",
              "      <th>Example</th>\n",
              "      <th>Commodity Code</th>\n",
              "      <th>Commodity Title</th>\n",
              "      <th>Hot Technology</th>\n",
              "      <th>content</th>\n",
              "    </tr>\n",
              "  </thead>\n",
              "  <tbody>\n",
              "    <tr>\n",
              "      <th>0</th>\n",
              "      <td>11-1011.00</td>\n",
              "      <td>Chief Executives</td>\n",
              "      <td>Adobe Systems Adobe Acrobat</td>\n",
              "      <td>43232202</td>\n",
              "      <td>Document management software</td>\n",
              "      <td>Y</td>\n",
              "      <td>Chief Executives Adobe Systems Adobe Acrobat D...</td>\n",
              "    </tr>\n",
              "    <tr>\n",
              "      <th>1</th>\n",
              "      <td>11-1011.00</td>\n",
              "      <td>Chief Executives</td>\n",
              "      <td>AdSense Tracker</td>\n",
              "      <td>43232306</td>\n",
              "      <td>Data base user interface and query software</td>\n",
              "      <td>N</td>\n",
              "      <td>Chief Executives AdSense Tracker Data base use...</td>\n",
              "    </tr>\n",
              "    <tr>\n",
              "      <th>2</th>\n",
              "      <td>11-1011.00</td>\n",
              "      <td>Chief Executives</td>\n",
              "      <td>Atlassian JIRA</td>\n",
              "      <td>43232201</td>\n",
              "      <td>Content workflow software</td>\n",
              "      <td>Y</td>\n",
              "      <td>Chief Executives Atlassian JIRA Content workfl...</td>\n",
              "    </tr>\n",
              "    <tr>\n",
              "      <th>3</th>\n",
              "      <td>11-1011.00</td>\n",
              "      <td>Chief Executives</td>\n",
              "      <td>Blackbaud The Raiser's Edge</td>\n",
              "      <td>43232303</td>\n",
              "      <td>Customer relationship management CRM software</td>\n",
              "      <td>Y</td>\n",
              "      <td>Chief Executives Blackbaud The Raiser's Edge C...</td>\n",
              "    </tr>\n",
              "    <tr>\n",
              "      <th>4</th>\n",
              "      <td>11-1011.00</td>\n",
              "      <td>Chief Executives</td>\n",
              "      <td>ComputerEase Construction Accounting</td>\n",
              "      <td>43231601</td>\n",
              "      <td>Accounting software</td>\n",
              "      <td>N</td>\n",
              "      <td>Chief Executives ComputerEase Construction Acc...</td>\n",
              "    </tr>\n",
              "    <tr>\n",
              "      <th>...</th>\n",
              "      <td>...</td>\n",
              "      <td>...</td>\n",
              "      <td>...</td>\n",
              "      <td>...</td>\n",
              "      <td>...</td>\n",
              "      <td>...</td>\n",
              "      <td>...</td>\n",
              "    </tr>\n",
              "    <tr>\n",
              "      <th>27853</th>\n",
              "      <td>53-7111.00</td>\n",
              "      <td>Mine Shuttle Car Operators</td>\n",
              "      <td>Mine maintenance software</td>\n",
              "      <td>43232603</td>\n",
              "      <td>Facilities management software</td>\n",
              "      <td>N</td>\n",
              "      <td>Mine Shuttle Car Operators Mine maintenance so...</td>\n",
              "    </tr>\n",
              "    <tr>\n",
              "      <th>27854</th>\n",
              "      <td>53-7121.00</td>\n",
              "      <td>Tank Car, Truck, and Ship Loaders</td>\n",
              "      <td>CompuWeigh GMS</td>\n",
              "      <td>43232306</td>\n",
              "      <td>Data base user interface and query software</td>\n",
              "      <td>N</td>\n",
              "      <td>Tank Car, Truck, and Ship Loaders CompuWeigh G...</td>\n",
              "    </tr>\n",
              "    <tr>\n",
              "      <th>27855</th>\n",
              "      <td>53-7121.00</td>\n",
              "      <td>Tank Car, Truck, and Ship Loaders</td>\n",
              "      <td>Data entry software</td>\n",
              "      <td>43232306</td>\n",
              "      <td>Data base user interface and query software</td>\n",
              "      <td>Y</td>\n",
              "      <td>Tank Car, Truck, and Ship Loaders Data entry s...</td>\n",
              "    </tr>\n",
              "    <tr>\n",
              "      <th>27856</th>\n",
              "      <td>53-7121.00</td>\n",
              "      <td>Tank Car, Truck, and Ship Loaders</td>\n",
              "      <td>Distributed control system DCS</td>\n",
              "      <td>43231506</td>\n",
              "      <td>Materials requirements planning logistics and ...</td>\n",
              "      <td>N</td>\n",
              "      <td>Tank Car, Truck, and Ship Loaders Distributed ...</td>\n",
              "    </tr>\n",
              "    <tr>\n",
              "      <th>27857</th>\n",
              "      <td>53-7121.00</td>\n",
              "      <td>Tank Car, Truck, and Ship Loaders</td>\n",
              "      <td>Microsoft Excel</td>\n",
              "      <td>43232110</td>\n",
              "      <td>Spreadsheet software</td>\n",
              "      <td>Y</td>\n",
              "      <td>Tank Car, Truck, and Ship Loaders Microsoft Ex...</td>\n",
              "    </tr>\n",
              "  </tbody>\n",
              "</table>\n",
              "<p>27858 rows × 7 columns</p>\n",
              "</div>\n",
              "    <div class=\"colab-df-buttons\">\n",
              "\n",
              "  <div class=\"colab-df-container\">\n",
              "    <button class=\"colab-df-convert\" onclick=\"convertToInteractive('df-78ea0031-5d5a-46f2-a503-e695268653e6')\"\n",
              "            title=\"Convert this dataframe to an interactive table.\"\n",
              "            style=\"display:none;\">\n",
              "\n",
              "  <svg xmlns=\"http://www.w3.org/2000/svg\" height=\"24px\" viewBox=\"0 -960 960 960\">\n",
              "    <path d=\"M120-120v-720h720v720H120Zm60-500h600v-160H180v160Zm220 220h160v-160H400v160Zm0 220h160v-160H400v160ZM180-400h160v-160H180v160Zm440 0h160v-160H620v160ZM180-180h160v-160H180v160Zm440 0h160v-160H620v160Z\"/>\n",
              "  </svg>\n",
              "    </button>\n",
              "\n",
              "  <style>\n",
              "    .colab-df-container {\n",
              "      display:flex;\n",
              "      gap: 12px;\n",
              "    }\n",
              "\n",
              "    .colab-df-convert {\n",
              "      background-color: #E8F0FE;\n",
              "      border: none;\n",
              "      border-radius: 50%;\n",
              "      cursor: pointer;\n",
              "      display: none;\n",
              "      fill: #1967D2;\n",
              "      height: 32px;\n",
              "      padding: 0 0 0 0;\n",
              "      width: 32px;\n",
              "    }\n",
              "\n",
              "    .colab-df-convert:hover {\n",
              "      background-color: #E2EBFA;\n",
              "      box-shadow: 0px 1px 2px rgba(60, 64, 67, 0.3), 0px 1px 3px 1px rgba(60, 64, 67, 0.15);\n",
              "      fill: #174EA6;\n",
              "    }\n",
              "\n",
              "    .colab-df-buttons div {\n",
              "      margin-bottom: 4px;\n",
              "    }\n",
              "\n",
              "    [theme=dark] .colab-df-convert {\n",
              "      background-color: #3B4455;\n",
              "      fill: #D2E3FC;\n",
              "    }\n",
              "\n",
              "    [theme=dark] .colab-df-convert:hover {\n",
              "      background-color: #434B5C;\n",
              "      box-shadow: 0px 1px 3px 1px rgba(0, 0, 0, 0.15);\n",
              "      filter: drop-shadow(0px 1px 2px rgba(0, 0, 0, 0.3));\n",
              "      fill: #FFFFFF;\n",
              "    }\n",
              "  </style>\n",
              "\n",
              "    <script>\n",
              "      const buttonEl =\n",
              "        document.querySelector('#df-78ea0031-5d5a-46f2-a503-e695268653e6 button.colab-df-convert');\n",
              "      buttonEl.style.display =\n",
              "        google.colab.kernel.accessAllowed ? 'block' : 'none';\n",
              "\n",
              "      async function convertToInteractive(key) {\n",
              "        const element = document.querySelector('#df-78ea0031-5d5a-46f2-a503-e695268653e6');\n",
              "        const dataTable =\n",
              "          await google.colab.kernel.invokeFunction('convertToInteractive',\n",
              "                                                    [key], {});\n",
              "        if (!dataTable) return;\n",
              "\n",
              "        const docLinkHtml = 'Like what you see? Visit the ' +\n",
              "          '<a target=\"_blank\" href=https://colab.research.google.com/notebooks/data_table.ipynb>data table notebook</a>'\n",
              "          + ' to learn more about interactive tables.';\n",
              "        element.innerHTML = '';\n",
              "        dataTable['output_type'] = 'display_data';\n",
              "        await google.colab.output.renderOutput(dataTable, element);\n",
              "        const docLink = document.createElement('div');\n",
              "        docLink.innerHTML = docLinkHtml;\n",
              "        element.appendChild(docLink);\n",
              "      }\n",
              "    </script>\n",
              "  </div>\n",
              "\n",
              "\n",
              "<div id=\"df-71412cee-7288-4f6d-bac0-8323fef1a2b4\">\n",
              "  <button class=\"colab-df-quickchart\" onclick=\"quickchart('df-71412cee-7288-4f6d-bac0-8323fef1a2b4')\"\n",
              "            title=\"Suggest charts.\"\n",
              "            style=\"display:none;\">\n",
              "\n",
              "<svg xmlns=\"http://www.w3.org/2000/svg\" height=\"24px\"viewBox=\"0 0 24 24\"\n",
              "     width=\"24px\">\n",
              "    <g>\n",
              "        <path d=\"M19 3H5c-1.1 0-2 .9-2 2v14c0 1.1.9 2 2 2h14c1.1 0 2-.9 2-2V5c0-1.1-.9-2-2-2zM9 17H7v-7h2v7zm4 0h-2V7h2v10zm4 0h-2v-4h2v4z\"/>\n",
              "    </g>\n",
              "</svg>\n",
              "  </button>\n",
              "\n",
              "<style>\n",
              "  .colab-df-quickchart {\n",
              "    background-color: #E8F0FE;\n",
              "    border: none;\n",
              "    border-radius: 50%;\n",
              "    cursor: pointer;\n",
              "    display: none;\n",
              "    fill: #1967D2;\n",
              "    height: 32px;\n",
              "    padding: 0 0 0 0;\n",
              "    width: 32px;\n",
              "  }\n",
              "\n",
              "  .colab-df-quickchart:hover {\n",
              "    background-color: #E2EBFA;\n",
              "    box-shadow: 0px 1px 2px rgba(60, 64, 67, 0.3), 0px 1px 3px 1px rgba(60, 64, 67, 0.15);\n",
              "    fill: #174EA6;\n",
              "  }\n",
              "\n",
              "  [theme=dark] .colab-df-quickchart {\n",
              "    background-color: #3B4455;\n",
              "    fill: #D2E3FC;\n",
              "  }\n",
              "\n",
              "  [theme=dark] .colab-df-quickchart:hover {\n",
              "    background-color: #434B5C;\n",
              "    box-shadow: 0px 1px 3px 1px rgba(0, 0, 0, 0.15);\n",
              "    filter: drop-shadow(0px 1px 2px rgba(0, 0, 0, 0.3));\n",
              "    fill: #FFFFFF;\n",
              "  }\n",
              "</style>\n",
              "\n",
              "  <script>\n",
              "    async function quickchart(key) {\n",
              "      const charts = await google.colab.kernel.invokeFunction(\n",
              "          'suggestCharts', [key], {});\n",
              "    }\n",
              "    (() => {\n",
              "      let quickchartButtonEl =\n",
              "        document.querySelector('#df-71412cee-7288-4f6d-bac0-8323fef1a2b4 button');\n",
              "      quickchartButtonEl.style.display =\n",
              "        google.colab.kernel.accessAllowed ? 'block' : 'none';\n",
              "    })();\n",
              "  </script>\n",
              "</div>\n",
              "    </div>\n",
              "  </div>\n"
            ]
          },
          "metadata": {},
          "execution_count": 13
        }
      ]
    },
    {
      "cell_type": "code",
      "source": [
        "# Function to create entity dictionaries\n",
        "def create_entity_dict(row):\n",
        "  entities = []\n",
        "  entities.append((row[\"content\"].find(row['Example']),row[\"content\"].find(row['Example'])+ len(row[\"Example\"]),\"technical skill\"))\n",
        "  entities.append((row[\"content\"].find(row['Title']),row[\"content\"].find(row['Title'])+ len(row[\"Title\"]),\"domain\"))\n",
        "  return {\n",
        "      \"content\": row['content'],\n",
        "      \"entities\": entities\n",
        "  }\n",
        "\n",
        "\n",
        "\n",
        "# Apply the function to create the \"Entities\" column\n",
        "tech_data2[\"Entities\"] = tech_data2.apply(create_entity_dict,axis=1)\n"
      ],
      "metadata": {
        "id": "yhHv5BXm2mjz"
      },
      "execution_count": null,
      "outputs": []
    },
    {
      "cell_type": "code",
      "source": [
        "# required format of the data looks like\n",
        "tech_data2['Entities'][0]"
      ],
      "metadata": {
        "colab": {
          "base_uri": "https://localhost:8080/"
        },
        "id": "_qQBBmiW4Vzw",
        "outputId": "8e8ad22c-3b98-4ac6-cbf7-214a651b51c3"
      },
      "execution_count": null,
      "outputs": [
        {
          "output_type": "execute_result",
          "data": {
            "text/plain": [
              "{'content': 'Chief Executives Adobe Systems Adobe Acrobat Document management software',\n",
              " 'entities': [(17, 44, 'technical skill'), (0, 16, 'domain')]}"
            ]
          },
          "metadata": {},
          "execution_count": 43
        }
      ]
    },
    {
      "cell_type": "code",
      "source": [
        "tech_data2['content'][0][0:16]"
      ],
      "metadata": {
        "colab": {
          "base_uri": "https://localhost:8080/",
          "height": 35
        },
        "id": "1TrpyPg6bDjk",
        "outputId": "40c7427d-96b3-45bb-b80a-7bdc43d41752"
      },
      "execution_count": null,
      "outputs": [
        {
          "output_type": "execute_result",
          "data": {
            "text/plain": [
              "'Chief Executives'"
            ],
            "application/vnd.google.colaboratory.intrinsic+json": {
              "type": "string"
            }
          },
          "metadata": {},
          "execution_count": 46
        }
      ]
    },
    {
      "cell_type": "code",
      "source": [
        "from spacy.tokens import DocBin\n",
        "from tqdm import tqdm\n",
        "nlp = spacy.blank(\"en\") # load a new spacy model\n",
        "\n",
        "doc_bin = DocBin()"
      ],
      "metadata": {
        "id": "ENaBn3DJcTuA"
      },
      "execution_count": null,
      "outputs": []
    },
    {
      "cell_type": "code",
      "source": [
        "training_data = np.array(tech_data2['Entities'])\n",
        "training_data[0]"
      ],
      "metadata": {
        "colab": {
          "base_uri": "https://localhost:8080/"
        },
        "id": "Bre-Xhu8co_M",
        "outputId": "f54fd050-4fc9-4c1d-9468-79296de4222b"
      },
      "execution_count": null,
      "outputs": [
        {
          "output_type": "execute_result",
          "data": {
            "text/plain": [
              "{'content': 'Chief Executives Adobe Systems Adobe Acrobat Document management software',\n",
              " 'entities': [(17, 44, 'technical skill'), (0, 16, 'domain')]}"
            ]
          },
          "metadata": {},
          "execution_count": 49
        }
      ]
    },
    {
      "cell_type": "code",
      "source": [
        "# this will convert our data into model acceptable format\n",
        "\n",
        "from spacy.util import filter_spans\n",
        "\n",
        "for training_example in tqdm(training_data):\n",
        "  text = training_example['content']\n",
        "  labels = training_example['entities']\n",
        "  doc = nlp_lg.make_doc(text)\n",
        "  ents =[]\n",
        "  for start, end, label in labels:\n",
        "    span = doc.char_span(start, end, label=label, alignment_mode=\"contract\")\n",
        "    if span is None:\n",
        "      print(\"Skipping entity\")\n",
        "    else:\n",
        "      ents.append(span)\n",
        "  filtered_ents = filter_spans(ents)\n",
        "  doc.ents = filtered_ents\n",
        "  doc_bin.add(doc)\n",
        "\n",
        "doc_bin.to_disk(\"train.spacy\")"
      ],
      "metadata": {
        "colab": {
          "base_uri": "https://localhost:8080/"
        },
        "id": "uBd7mb47c-KK",
        "outputId": "5d103252-2f67-490a-9966-03fc02d6a76a"
      },
      "execution_count": null,
      "outputs": [
        {
          "output_type": "stream",
          "name": "stderr",
          "text": [
            "  7%|▋         | 1989/27858 [00:00<00:04, 5375.63it/s]"
          ]
        },
        {
          "output_type": "stream",
          "name": "stdout",
          "text": [
            "Skipping entity\n"
          ]
        },
        {
          "output_type": "stream",
          "name": "stderr",
          "text": [
            " 13%|█▎        | 3731/27858 [00:00<00:04, 5711.22it/s]"
          ]
        },
        {
          "output_type": "stream",
          "name": "stdout",
          "text": [
            "Skipping entity\n"
          ]
        },
        {
          "output_type": "stream",
          "name": "stderr",
          "text": [
            " 27%|██▋       | 7425/27858 [00:01<00:03, 6293.98it/s]"
          ]
        },
        {
          "output_type": "stream",
          "name": "stdout",
          "text": [
            "Skipping entity\n",
            "Skipping entity\n",
            "Skipping entity\n",
            "Skipping entity\n",
            "Skipping entity\n",
            "Skipping entity\n"
          ]
        },
        {
          "output_type": "stream",
          "name": "stderr",
          "text": [
            " 34%|███▍      | 9556/27858 [00:01<00:02, 6860.83it/s]"
          ]
        },
        {
          "output_type": "stream",
          "name": "stdout",
          "text": [
            "Skipping entity\n",
            "Skipping entity\n",
            "Skipping entity\n",
            "Skipping entity\n"
          ]
        },
        {
          "output_type": "stream",
          "name": "stderr",
          "text": [
            " 40%|███▉      | 11079/27858 [00:01<00:02, 7215.71it/s]"
          ]
        },
        {
          "output_type": "stream",
          "name": "stdout",
          "text": [
            "Skipping entity\n",
            "Skipping entity\n",
            "Skipping entity\n",
            "Skipping entity\n",
            "Skipping entity\n"
          ]
        },
        {
          "output_type": "stream",
          "name": "stderr",
          "text": [
            " 45%|████▍     | 12519/27858 [00:02<00:02, 6822.97it/s]"
          ]
        },
        {
          "output_type": "stream",
          "name": "stdout",
          "text": [
            "Skipping entity\n"
          ]
        },
        {
          "output_type": "stream",
          "name": "stderr",
          "text": [
            " 53%|█████▎    | 14802/27858 [00:02<00:01, 6868.41it/s]"
          ]
        },
        {
          "output_type": "stream",
          "name": "stdout",
          "text": [
            "Skipping entity\n",
            "Skipping entity\n",
            "Skipping entity\n"
          ]
        },
        {
          "output_type": "stream",
          "name": "stderr",
          "text": [
            " 61%|██████    | 16902/27858 [00:02<00:01, 6541.90it/s]"
          ]
        },
        {
          "output_type": "stream",
          "name": "stdout",
          "text": [
            "Skipping entity\n",
            "Skipping entity\n",
            "Skipping entity\n",
            "Skipping entity\n"
          ]
        },
        {
          "output_type": "stream",
          "name": "stderr",
          "text": [
            " 70%|██████▉   | 19490/27858 [00:03<00:01, 6222.91it/s]"
          ]
        },
        {
          "output_type": "stream",
          "name": "stdout",
          "text": [
            "Skipping entity\n"
          ]
        },
        {
          "output_type": "stream",
          "name": "stderr",
          "text": [
            " 82%|████████▏ | 22889/27858 [00:03<00:00, 7384.75it/s]"
          ]
        },
        {
          "output_type": "stream",
          "name": "stdout",
          "text": [
            "Skipping entity\n",
            "Skipping entity\n",
            "Skipping entity\n"
          ]
        },
        {
          "output_type": "stream",
          "name": "stderr",
          "text": [
            "100%|██████████| 27858/27858 [00:04<00:00, 6406.54it/s]\n"
          ]
        }
      ]
    },
    {
      "cell_type": "code",
      "source": [
        "# manually create file ''\n",
        "# this command will save final config file as config.cfg\n",
        "!python -m spacy init fill-config base_config.cfg config.cfg"
      ],
      "metadata": {
        "colab": {
          "base_uri": "https://localhost:8080/"
        },
        "id": "ABiN4WXBeipV",
        "outputId": "f588450d-ecae-4b64-8fec-55eb4e61819d"
      },
      "execution_count": null,
      "outputs": [
        {
          "output_type": "stream",
          "name": "stdout",
          "text": [
            "2023-08-26 11:02:13.094131: W tensorflow/compiler/tf2tensorrt/utils/py_utils.cc:38] TF-TRT Warning: Could not find TensorRT\n",
            "\u001b[38;5;2m✔ Auto-filled config with all values\u001b[0m\n",
            "\u001b[38;5;2m✔ Saved config\u001b[0m\n",
            "config.cfg\n",
            "You can now add your data and train your pipeline:\n",
            "python -m spacy train config.cfg --paths.train ./train.spacy --paths.dev ./dev.spacy\n"
          ]
        }
      ]
    },
    {
      "cell_type": "code",
      "source": [
        "!python -m spacy train config.cfg --output ./output --paths.train ./train.spacy --paths.dev ./train.spacy"
      ],
      "metadata": {
        "colab": {
          "base_uri": "https://localhost:8080/"
        },
        "id": "JTr0emDxg2iz",
        "outputId": "1fb504bc-f2e5-49b2-bd73-89e388dd41ab"
      },
      "execution_count": null,
      "outputs": [
        {
          "output_type": "stream",
          "name": "stdout",
          "text": [
            "2023-08-26 11:13:26.409962: W tensorflow/compiler/tf2tensorrt/utils/py_utils.cc:38] TF-TRT Warning: Could not find TensorRT\n",
            "\u001b[38;5;4mℹ Saving to output directory: output\u001b[0m\n",
            "\u001b[38;5;4mℹ Using CPU\u001b[0m\n",
            "\u001b[1m\n",
            "=========================== Initializing pipeline ===========================\u001b[0m\n",
            "\u001b[38;5;2m✔ Initialized pipeline\u001b[0m\n",
            "\u001b[1m\n",
            "============================= Training pipeline =============================\u001b[0m\n",
            "\u001b[38;5;4mℹ Pipeline: ['tok2vec', 'ner']\u001b[0m\n",
            "\u001b[38;5;4mℹ Initial learn rate: 0.001\u001b[0m\n",
            "E    #       LOSS TOK2VEC  LOSS NER  ENTS_F  ENTS_P  ENTS_R  SCORE \n",
            "---  ------  ------------  --------  ------  ------  ------  ------\n",
            "  0       0          0.00     65.50    8.00    6.26   11.09    0.08\n",
            "  0     200         37.97   2606.83   98.29   98.13   98.45    0.98\n",
            "  0     400         23.54    177.72   99.50   99.47   99.52    0.99\n",
            "  0     600         48.08    218.89   99.24   99.22   99.26    0.99\n",
            "  0     800         66.79    172.45   99.57   99.58   99.56    1.00\n",
            "  0    1000         49.14    114.17   99.63   99.53   99.73    1.00\n",
            "  0    1200         64.52    157.77   99.78   99.78   99.78    1.00\n",
            "  0    1400         33.99     80.91   99.36   99.25   99.47    0.99\n",
            "  1    1600        152.97    126.35   99.89   99.90   99.89    1.00\n",
            "  1    1800         70.74     96.84   99.92   99.88   99.96    1.00\n",
            "  2    2000         59.89     99.08   99.96   99.93   99.98    1.00\n",
            "  2    2200         55.97     94.00   99.95   99.92   99.97    1.00\n",
            "  3    2400        345.62    137.36   99.97   99.94  100.00    1.00\n",
            "  3    2600         57.39     74.97   99.92   99.95   99.89    1.00\n",
            "  4    2800        190.31    109.05   99.97   99.94   99.99    1.00\n",
            "  5    3000        190.30     73.49   99.97   99.96   99.98    1.00\n",
            "  5    3200        354.30    121.71   99.96   99.93   99.99    1.00\n",
            "  6    3400        845.16    115.18   99.80   99.77   99.83    1.00\n",
            "  7    3600        273.32    150.24   99.94   99.94   99.94    1.00\n",
            "  7    3800        183.25     67.71   99.96   99.93   99.99    1.00\n",
            "  8    4000        112.73     67.34   99.94   99.91   99.96    1.00\n",
            "\u001b[38;5;2m✔ Saved pipeline to output directory\u001b[0m\n",
            "output/model-last\n"
          ]
        }
      ]
    },
    {
      "cell_type": "code",
      "source": [
        "# previous command will take care of saving model\n",
        "\n",
        "nlp_ner = spacy.load(\"output/model-last\")"
      ],
      "metadata": {
        "id": "-87e9YlKozP2"
      },
      "execution_count": null,
      "outputs": []
    },
    {
      "cell_type": "code",
      "source": [
        "doc = nlp_ner(\"          javascript           \")\n",
        "displacy.render(doc,style =\"ent\",jupyter=True)"
      ],
      "metadata": {
        "id": "qV9CiGoAo56e",
        "colab": {
          "base_uri": "https://localhost:8080/",
          "height": 52
        },
        "outputId": "42503430-7c4f-4ccc-ac98-5f84e489343b"
      },
      "execution_count": null,
      "outputs": [
        {
          "output_type": "display_data",
          "data": {
            "text/plain": [
              "<IPython.core.display.HTML object>"
            ],
            "text/html": [
              "<span class=\"tex2jax_ignore\"><div class=\"entities\" style=\"line-height: 2.5; direction: ltr\">          \n",
              "<mark class=\"entity\" style=\"background: #ddd; padding: 0.45em 0.6em; margin: 0 0.25em; line-height: 1; border-radius: 0.35em;\">\n",
              "    javascript\n",
              "    <span style=\"font-size: 0.8em; font-weight: bold; line-height: 1; border-radius: 0.35em; vertical-align: middle; margin-left: 0.5rem\">technical skill</span>\n",
              "</mark>\n",
              "           </div></span>"
            ]
          },
          "metadata": {}
        }
      ]
    }
  ]
}